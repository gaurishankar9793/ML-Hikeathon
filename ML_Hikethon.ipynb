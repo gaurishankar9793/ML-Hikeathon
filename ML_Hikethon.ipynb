{
  "nbformat": 4,
  "nbformat_minor": 0,
  "metadata": {
    "colab": {
      "name": "ML_Hikethon.ipynb",
      "version": "0.3.2",
      "provenance": [],
      "collapsed_sections": [],
      "include_colab_link": true
    },
    "kernelspec": {
      "name": "python3",
      "display_name": "Python 3"
    },
    "accelerator": "TPU"
  },
  "cells": [
    {
      "cell_type": "markdown",
      "metadata": {
        "id": "view-in-github",
        "colab_type": "text"
      },
      "source": [
        "<a href=\"https://colab.research.google.com/github/gaurishankar9793/ML-Hikeathon/blob/master/ML_Hikethon.ipynb\" target=\"_parent\"><img src=\"https://colab.research.google.com/assets/colab-badge.svg\" alt=\"Open In Colab\"/></a>"
      ]
    },
    {
      "metadata": {
        "id": "xN7P2CWgl6Uq",
        "colab_type": "code",
        "outputId": "e9e6ddda-29e6-4f62-82e1-888c132b10cf",
        "colab": {
          "base_uri": "https://localhost:8080/",
          "height": 181
        }
      },
      "cell_type": "code",
      "source": [
        "# Install the PyDrive wrapper & import libraries.\n",
        "# This only needs to be done once per notebook.\n",
        "!pip install -U -q PyDrive\n",
        "from pydrive.auth import GoogleAuth\n",
        "from pydrive.drive import GoogleDrive\n",
        "from google.colab import auth\n",
        "from oauth2client.client import GoogleCredentials\n",
        "\n",
        "# Authenticate and create the PyDrive client.\n",
        "# This only needs to be done once per notebook.\n",
        "auth.authenticate_user()\n",
        "gauth = GoogleAuth()\n",
        "gauth.credentials = GoogleCredentials.get_application_default()\n",
        "drive = GoogleDrive(gauth)\n",
        "\n"
      ],
      "execution_count": 0,
      "outputs": [
        {
          "output_type": "stream",
          "text": [
            "\u001b[?25l\r\u001b[K    1% |▎                               | 10kB 17.7MB/s eta 0:00:01\r\u001b[K    2% |▋                               | 20kB 2.2MB/s eta 0:00:01\r\u001b[K    3% |█                               | 30kB 3.2MB/s eta 0:00:01\r\u001b[K    4% |█▎                              | 40kB 2.1MB/s eta 0:00:01\r\u001b[K    5% |█▋                              | 51kB 2.5MB/s eta 0:00:01\r\u001b[K    6% |██                              | 61kB 3.0MB/s eta 0:00:01\r\u001b[K    7% |██▎                             | 71kB 3.5MB/s eta 0:00:01\r\u001b[K    8% |██▋                             | 81kB 3.9MB/s eta 0:00:01\r\u001b[K    9% |███                             | 92kB 4.4MB/s eta 0:00:01\r\u001b[K    10% |███▎                            | 102kB 3.4MB/s eta 0:00:01\r\u001b[K    11% |███▋                            | 112kB 3.4MB/s eta 0:00:01\r\u001b[K    12% |████                            | 122kB 4.7MB/s eta 0:00:01\r\u001b[K    13% |████▎                           | 133kB 4.7MB/s eta 0:00:01\r\u001b[K    14% |████▋                           | 143kB 8.7MB/s eta 0:00:01\r\u001b[K    15% |█████                           | 153kB 8.9MB/s eta 0:00:01\r\u001b[K    16% |█████▎                          | 163kB 8.9MB/s eta 0:00:01\r\u001b[K    17% |█████▋                          | 174kB 8.9MB/s eta 0:00:01\r\u001b[K    18% |██████                          | 184kB 9.0MB/s eta 0:00:01\r\u001b[K    19% |██████▎                         | 194kB 9.0MB/s eta 0:00:01\r\u001b[K    20% |██████▋                         | 204kB 40.2MB/s eta 0:00:01\r\u001b[K    21% |███████                         | 215kB 10.1MB/s eta 0:00:01\r\u001b[K    22% |███████▎                        | 225kB 10.0MB/s eta 0:00:01\r\u001b[K    23% |███████▋                        | 235kB 10.1MB/s eta 0:00:01\r\u001b[K    24% |████████                        | 245kB 10.1MB/s eta 0:00:01\r\u001b[K    25% |████████▎                       | 256kB 10.1MB/s eta 0:00:01\r\u001b[K    26% |████████▋                       | 266kB 9.8MB/s eta 0:00:01\r\u001b[K    27% |█████████                       | 276kB 9.2MB/s eta 0:00:01\r\u001b[K    29% |█████████▎                      | 286kB 9.2MB/s eta 0:00:01\r\u001b[K    30% |█████████▋                      | 296kB 9.2MB/s eta 0:00:01\r\u001b[K    31% |██████████                      | 307kB 9.5MB/s eta 0:00:01\r\u001b[K    32% |██████████▎                     | 317kB 34.4MB/s eta 0:00:01\r\u001b[K    33% |██████████▋                     | 327kB 36.1MB/s eta 0:00:01\r\u001b[K    34% |███████████                     | 337kB 37.5MB/s eta 0:00:01\r\u001b[K    35% |███████████▎                    | 348kB 34.6MB/s eta 0:00:01\r\u001b[K    36% |███████████▋                    | 358kB 34.7MB/s eta 0:00:01\r\u001b[K    37% |████████████                    | 368kB 38.8MB/s eta 0:00:01\r\u001b[K    38% |████████████▎                   | 378kB 54.9MB/s eta 0:00:01\r\u001b[K    39% |████████████▋                   | 389kB 56.5MB/s eta 0:00:01\r\u001b[K    40% |█████████████                   | 399kB 12.7MB/s eta 0:00:01\r\u001b[K    41% |█████████████▎                  | 409kB 12.2MB/s eta 0:00:01\r\u001b[K    42% |█████████████▋                  | 419kB 12.2MB/s eta 0:00:01\r\u001b[K    43% |██████████████                  | 430kB 12.2MB/s eta 0:00:01\r\u001b[K    44% |██████████████▎                 | 440kB 12.1MB/s eta 0:00:01\r\u001b[K    45% |██████████████▋                 | 450kB 12.1MB/s eta 0:00:01\r\u001b[K    46% |███████████████                 | 460kB 12.1MB/s eta 0:00:01\r\u001b[K    47% |███████████████▎                | 471kB 12.1MB/s eta 0:00:01\r\u001b[K    48% |███████████████▋                | 481kB 12.1MB/s eta 0:00:01\r\u001b[K    49% |████████████████                | 491kB 12.1MB/s eta 0:00:01\r\u001b[K    50% |████████████████▎               | 501kB 46.9MB/s eta 0:00:01\r\u001b[K    51% |████████████████▋               | 512kB 47.8MB/s eta 0:00:01\r\u001b[K    52% |█████████████████               | 522kB 48.2MB/s eta 0:00:01\r\u001b[K    53% |█████████████████▎              | 532kB 49.9MB/s eta 0:00:01\r\u001b[K    54% |█████████████████▋              | 542kB 10.5MB/s eta 0:00:01\r\u001b[K    55% |██████████████████              | 552kB 10.6MB/s eta 0:00:01\r\u001b[K    57% |██████████████████▎             | 563kB 10.5MB/s eta 0:00:01\r\u001b[K    58% |██████████████████▋             | 573kB 10.4MB/s eta 0:00:01\r\u001b[K    59% |███████████████████             | 583kB 10.3MB/s eta 0:00:01\r\u001b[K    60% |███████████████████▎            | 593kB 10.3MB/s eta 0:00:01\r\u001b[K    61% |███████████████████▋            | 604kB 10.3MB/s eta 0:00:01\r\u001b[K    62% |████████████████████            | 614kB 10.5MB/s eta 0:00:01\r\u001b[K    63% |████████████████████▎           | 624kB 10.4MB/s eta 0:00:01\r\u001b[K    64% |████████████████████▋           | 634kB 10.4MB/s eta 0:00:01\r\u001b[K    65% |█████████████████████           | 645kB 48.4MB/s eta 0:00:01\r\u001b[K    66% |█████████████████████▎          | 655kB 51.3MB/s eta 0:00:01\r\u001b[K    67% |█████████████████████▋          | 665kB 41.5MB/s eta 0:00:01\r\u001b[K    68% |██████████████████████          | 675kB 43.0MB/s eta 0:00:01\r\u001b[K    69% |██████████████████████▎         | 686kB 44.9MB/s eta 0:00:01\r\u001b[K    70% |██████████████████████▋         | 696kB 45.7MB/s eta 0:00:01\r\u001b[K    71% |███████████████████████         | 706kB 45.1MB/s eta 0:00:01\r\u001b[K    72% |███████████████████████▎        | 716kB 45.0MB/s eta 0:00:01\r\u001b[K    73% |███████████████████████▋        | 727kB 45.4MB/s eta 0:00:01\r\u001b[K    74% |████████████████████████        | 737kB 45.1MB/s eta 0:00:01\r\u001b[K    75% |████████████████████████▎       | 747kB 45.6MB/s eta 0:00:01\r\u001b[K    76% |████████████████████████▋       | 757kB 45.5MB/s eta 0:00:01\r\u001b[K    77% |████████████████████████▉       | 768kB 60.7MB/s eta 0:00:01\r\u001b[K    78% |█████████████████████████▏      | 778kB 60.8MB/s eta 0:00:01\r\u001b[K    79% |█████████████████████████▌      | 788kB 59.4MB/s eta 0:00:01\r\u001b[K    80% |█████████████████████████▉      | 798kB 59.3MB/s eta 0:00:01\r\u001b[K    81% |██████████████████████████▏     | 808kB 60.1MB/s eta 0:00:01\r\u001b[K    82% |██████████████████████████▌     | 819kB 59.3MB/s eta 0:00:01\r\u001b[K    83% |██████████████████████████▉     | 829kB 59.7MB/s eta 0:00:01\r\u001b[K    85% |███████████████████████████▏    | 839kB 59.8MB/s eta 0:00:01\r\u001b[K    86% |███████████████████████████▌    | 849kB 60.4MB/s eta 0:00:01\r\u001b[K    87% |███████████████████████████▉    | 860kB 51.0MB/s eta 0:00:01\r\u001b[K    88% |████████████████████████████▏   | 870kB 50.9MB/s eta 0:00:01\r\u001b[K    89% |████████████████████████████▌   | 880kB 52.2MB/s eta 0:00:01\r\u001b[K    90% |████████████████████████████▉   | 890kB 52.9MB/s eta 0:00:01\r\u001b[K    91% |█████████████████████████████▏  | 901kB 53.1MB/s eta 0:00:01\r\u001b[K    92% |█████████████████████████████▌  | 911kB 53.5MB/s eta 0:00:01\r\u001b[K    93% |█████████████████████████████▉  | 921kB 53.6MB/s eta 0:00:01\r\u001b[K    94% |██████████████████████████████▏ | 931kB 53.5MB/s eta 0:00:01\r\u001b[K    95% |██████████████████████████████▌ | 942kB 53.8MB/s eta 0:00:01\r\u001b[K    96% |██████████████████████████████▉ | 952kB 52.7MB/s eta 0:00:01\r\u001b[K    97% |███████████████████████████████▏| 962kB 63.9MB/s eta 0:00:01\r\u001b[K    98% |███████████████████████████████▌| 972kB 65.2MB/s eta 0:00:01\r\u001b[K    99% |███████████████████████████████▉| 983kB 63.6MB/s eta 0:00:01\r\u001b[K    100% |████████████████████████████████| 993kB 19.9MB/s \n",
            "\u001b[?25h  Building wheel for PyDrive (setup.py) ... \u001b[?25ldone\n",
            "\u001b[?25h\n",
            "WARNING: The TensorFlow contrib module will not be included in TensorFlow 2.0.\n",
            "For more information, please see:\n",
            "  * https://github.com/tensorflow/community/blob/master/rfcs/20180907-contrib-sunset.md\n",
            "  * https://github.com/tensorflow/addons\n",
            "If you depend on functionality not listed there, please file an issue.\n",
            "\n"
          ],
          "name": "stdout"
        }
      ]
    },
    {
      "metadata": {
        "id": "dDLZE82uonTE",
        "colab_type": "code",
        "outputId": "f46c91f7-e789-4f4c-b5fe-96b110b77ff0",
        "colab": {
          "base_uri": "https://localhost:8080/",
          "height": 752
        }
      },
      "cell_type": "code",
      "source": [
        "import os\n",
        "file_list = drive.ListFile().GetList()\n",
        "\n",
        "\n",
        "for f in file_list:\n",
        "  # 3. Create & download by id.\n",
        "  print('title: %s, id: %s' % (f['title'], f['id']))\n",
        "  fname =  f['title']\n",
        "  print('downloading to {}'.format(fname))\n",
        "  f_ = drive.CreateFile({'id': f['id']})\n",
        "  f_.GetContentFile(fname)\n",
        "  "
      ],
      "execution_count": 0,
      "outputs": [
        {
          "output_type": "stream",
          "text": [
            "title: train.zip, id: 1LLyOF4zWAXIdsBWGlYnD2exH5IypajOX\n",
            "downloading to train.zip\n",
            "title: test.zip, id: 1F0powCtTQxOdGYdgFhEcNUFRLIyTRkLt\n",
            "downloading to test.zip\n",
            "title: Copy of test.zip, id: 1YORMNqPeKvIymNU1ukhL_QoydeNQfyww\n",
            "downloading to Copy of test.zip\n",
            "title: hikeathon, id: 1Rv9m-nyQ1fmJ1shIwwVttvMAxKQN8o4K\n",
            "downloading to hikeathon\n"
          ],
          "name": "stdout"
        },
        {
          "output_type": "error",
          "ename": "FileNotDownloadableError",
          "evalue": "ignored",
          "traceback": [
            "\u001b[0;31m---------------------------------------------------------------------------\u001b[0m",
            "\u001b[0;31mFileNotDownloadableError\u001b[0m                  Traceback (most recent call last)",
            "\u001b[0;32m<ipython-input-27-af55bd9c25c8>\u001b[0m in \u001b[0;36m<module>\u001b[0;34m()\u001b[0m\n\u001b[1;32m      9\u001b[0m   \u001b[0mprint\u001b[0m\u001b[0;34m(\u001b[0m\u001b[0;34m'downloading to {}'\u001b[0m\u001b[0;34m.\u001b[0m\u001b[0mformat\u001b[0m\u001b[0;34m(\u001b[0m\u001b[0mfname\u001b[0m\u001b[0;34m)\u001b[0m\u001b[0;34m)\u001b[0m\u001b[0;34m\u001b[0m\u001b[0;34m\u001b[0m\u001b[0m\n\u001b[1;32m     10\u001b[0m   \u001b[0mf_\u001b[0m \u001b[0;34m=\u001b[0m \u001b[0mdrive\u001b[0m\u001b[0;34m.\u001b[0m\u001b[0mCreateFile\u001b[0m\u001b[0;34m(\u001b[0m\u001b[0;34m{\u001b[0m\u001b[0;34m'id'\u001b[0m\u001b[0;34m:\u001b[0m \u001b[0mf\u001b[0m\u001b[0;34m[\u001b[0m\u001b[0;34m'id'\u001b[0m\u001b[0;34m]\u001b[0m\u001b[0;34m}\u001b[0m\u001b[0;34m)\u001b[0m\u001b[0;34m\u001b[0m\u001b[0;34m\u001b[0m\u001b[0m\n\u001b[0;32m---> 11\u001b[0;31m   \u001b[0mf_\u001b[0m\u001b[0;34m.\u001b[0m\u001b[0mGetContentFile\u001b[0m\u001b[0;34m(\u001b[0m\u001b[0mfname\u001b[0m\u001b[0;34m)\u001b[0m\u001b[0;34m\u001b[0m\u001b[0;34m\u001b[0m\u001b[0m\n\u001b[0m\u001b[1;32m     12\u001b[0m \u001b[0;34m\u001b[0m\u001b[0m\n",
            "\u001b[0;32m/usr/local/lib/python3.6/dist-packages/pydrive/files.py\u001b[0m in \u001b[0;36mGetContentFile\u001b[0;34m(self, filename, mimetype, remove_bom)\u001b[0m\n\u001b[1;32m    208\u001b[0m                     \u001b[0mtype\u001b[0m\u001b[0;34m(\u001b[0m\u001b[0mself\u001b[0m\u001b[0;34m.\u001b[0m\u001b[0mcontent\u001b[0m\u001b[0;34m)\u001b[0m \u001b[0;32mis\u001b[0m \u001b[0;32mnot\u001b[0m \u001b[0mio\u001b[0m\u001b[0;34m.\u001b[0m\u001b[0mBytesIO\u001b[0m \u001b[0;32mor\u001b[0m\u001b[0;31m \u001b[0m\u001b[0;31m\\\u001b[0m\u001b[0;34m\u001b[0m\u001b[0;34m\u001b[0m\u001b[0m\n\u001b[1;32m    209\u001b[0m                     \u001b[0mself\u001b[0m\u001b[0;34m.\u001b[0m\u001b[0mhas_bom\u001b[0m \u001b[0;34m==\u001b[0m \u001b[0mremove_bom\u001b[0m\u001b[0;34m:\u001b[0m\u001b[0;34m\u001b[0m\u001b[0;34m\u001b[0m\u001b[0m\n\u001b[0;32m--> 210\u001b[0;31m       \u001b[0mself\u001b[0m\u001b[0;34m.\u001b[0m\u001b[0mFetchContent\u001b[0m\u001b[0;34m(\u001b[0m\u001b[0mmimetype\u001b[0m\u001b[0;34m,\u001b[0m \u001b[0mremove_bom\u001b[0m\u001b[0;34m)\u001b[0m\u001b[0;34m\u001b[0m\u001b[0;34m\u001b[0m\u001b[0m\n\u001b[0m\u001b[1;32m    211\u001b[0m     \u001b[0mf\u001b[0m \u001b[0;34m=\u001b[0m \u001b[0mopen\u001b[0m\u001b[0;34m(\u001b[0m\u001b[0mfilename\u001b[0m\u001b[0;34m,\u001b[0m \u001b[0;34m'wb'\u001b[0m\u001b[0;34m)\u001b[0m\u001b[0;34m\u001b[0m\u001b[0;34m\u001b[0m\u001b[0m\n\u001b[1;32m    212\u001b[0m     \u001b[0mf\u001b[0m\u001b[0;34m.\u001b[0m\u001b[0mwrite\u001b[0m\u001b[0;34m(\u001b[0m\u001b[0mself\u001b[0m\u001b[0;34m.\u001b[0m\u001b[0mcontent\u001b[0m\u001b[0;34m.\u001b[0m\u001b[0mgetvalue\u001b[0m\u001b[0;34m(\u001b[0m\u001b[0;34m)\u001b[0m\u001b[0;34m)\u001b[0m\u001b[0;34m\u001b[0m\u001b[0;34m\u001b[0m\u001b[0m\n",
            "\u001b[0;32m/usr/local/lib/python3.6/dist-packages/pydrive/files.py\u001b[0m in \u001b[0;36m_decorated\u001b[0;34m(self, *args, **kwargs)\u001b[0m\n\u001b[1;32m     41\u001b[0m     \u001b[0;32mif\u001b[0m \u001b[0;32mnot\u001b[0m \u001b[0mself\u001b[0m\u001b[0;34m.\u001b[0m\u001b[0muploaded\u001b[0m\u001b[0;34m:\u001b[0m\u001b[0;34m\u001b[0m\u001b[0;34m\u001b[0m\u001b[0m\n\u001b[1;32m     42\u001b[0m       \u001b[0mself\u001b[0m\u001b[0;34m.\u001b[0m\u001b[0mFetchMetadata\u001b[0m\u001b[0;34m(\u001b[0m\u001b[0;34m)\u001b[0m\u001b[0;34m\u001b[0m\u001b[0;34m\u001b[0m\u001b[0m\n\u001b[0;32m---> 43\u001b[0;31m     \u001b[0;32mreturn\u001b[0m \u001b[0mdecoratee\u001b[0m\u001b[0;34m(\u001b[0m\u001b[0mself\u001b[0m\u001b[0;34m,\u001b[0m \u001b[0;34m*\u001b[0m\u001b[0margs\u001b[0m\u001b[0;34m,\u001b[0m \u001b[0;34m**\u001b[0m\u001b[0mkwargs\u001b[0m\u001b[0;34m)\u001b[0m\u001b[0;34m\u001b[0m\u001b[0;34m\u001b[0m\u001b[0m\n\u001b[0m\u001b[1;32m     44\u001b[0m   \u001b[0;32mreturn\u001b[0m \u001b[0m_decorated\u001b[0m\u001b[0;34m\u001b[0m\u001b[0;34m\u001b[0m\u001b[0m\n\u001b[1;32m     45\u001b[0m \u001b[0;34m\u001b[0m\u001b[0m\n",
            "\u001b[0;32m/usr/local/lib/python3.6/dist-packages/pydrive/files.py\u001b[0m in \u001b[0;36mFetchContent\u001b[0;34m(self, mimetype, remove_bom)\u001b[0m\n\u001b[1;32m    263\u001b[0m     \u001b[0;32melse\u001b[0m\u001b[0;34m:\u001b[0m\u001b[0;34m\u001b[0m\u001b[0;34m\u001b[0m\u001b[0m\n\u001b[1;32m    264\u001b[0m       raise FileNotDownloadableError(\n\u001b[0;32m--> 265\u001b[0;31m         'No downloadLink/exportLinks for mimetype found in metadata')\n\u001b[0m\u001b[1;32m    266\u001b[0m \u001b[0;34m\u001b[0m\u001b[0m\n\u001b[1;32m    267\u001b[0m     \u001b[0;32mif\u001b[0m \u001b[0mmimetype\u001b[0m \u001b[0;34m==\u001b[0m \u001b[0;34m'text/plain'\u001b[0m \u001b[0;32mand\u001b[0m \u001b[0mremove_bom\u001b[0m\u001b[0;34m:\u001b[0m\u001b[0;34m\u001b[0m\u001b[0;34m\u001b[0m\u001b[0m\n",
            "\u001b[0;31mFileNotDownloadableError\u001b[0m: No downloadLink/exportLinks for mimetype found in metadata"
          ]
        }
      ]
    },
    {
      "metadata": {
        "id": "Z3hgAXLMlj0_",
        "colab_type": "code",
        "colab": {}
      },
      "cell_type": "code",
      "source": [
        "fid = drive.ListFile().GetList()[0]['id']"
      ],
      "execution_count": 0,
      "outputs": []
    },
    {
      "metadata": {
        "id": "zSCVm7BJliws",
        "colab_type": "code",
        "colab": {}
      },
      "cell_type": "code",
      "source": [
        ""
      ],
      "execution_count": 0,
      "outputs": []
    },
    {
      "metadata": {
        "id": "kU2ONxZUpn7A",
        "colab_type": "code",
        "colab": {}
      },
      "cell_type": "code",
      "source": [
        "import zipfile\n",
        "import pandas as pd\n",
        " \n",
        "zf = zipfile.ZipFile('train.zip') \n",
        "train_df = pd.read_csv(zf.open('train.csv'))\n",
        "train_features = pd.read_csv(zf.open('user_features.csv'))\n"
      ],
      "execution_count": 0,
      "outputs": []
    },
    {
      "metadata": {
        "id": "P_KODCYLWPBZ",
        "colab_type": "code",
        "outputId": "3452afc4-df7a-4a22-80be-3e906d44c600",
        "colab": {
          "base_uri": "https://localhost:8080/",
          "height": 90
        }
      },
      "cell_type": "code",
      "source": [
        "display(train_df.shape)\n",
        "display(train_df.is_chat.value_counts())"
      ],
      "execution_count": 0,
      "outputs": [
        {
          "output_type": "display_data",
          "data": {
            "text/plain": [
              "(70661802, 3)"
            ]
          },
          "metadata": {
            "tags": []
          }
        },
        {
          "output_type": "display_data",
          "data": {
            "text/plain": [
              "0    68410018\n",
              "1     2251784\n",
              "Name: is_chat, dtype: int64"
            ]
          },
          "metadata": {
            "tags": []
          }
        }
      ]
    },
    {
      "metadata": {
        "id": "VYBm6hRDWPF2",
        "colab_type": "code",
        "colab": {}
      },
      "cell_type": "code",
      "source": [
        "t2 = train_df.iloc[:100000,:]\n",
        "train_features = train_features.set_index('node_id')"
      ],
      "execution_count": 0,
      "outputs": []
    },
    {
      "metadata": {
        "id": "lwf7otCjWPIt",
        "colab_type": "code",
        "outputId": "d0b56ff1-5982-4fb0-d09e-ee3216953564",
        "colab": {
          "base_uri": "https://localhost:8080/",
          "height": 126
        }
      },
      "cell_type": "code",
      "source": [
        "cols = train_features.columns\n",
        "for col in cols:\n",
        "  t2['1'+col] = t2['node1_id'].apply(lambda x: train_features.loc[x,col])"
      ],
      "execution_count": 0,
      "outputs": [
        {
          "output_type": "stream",
          "text": [
            "/usr/local/lib/python3.6/dist-packages/ipykernel_launcher.py:3: SettingWithCopyWarning: \n",
            "A value is trying to be set on a copy of a slice from a DataFrame.\n",
            "Try using .loc[row_indexer,col_indexer] = value instead\n",
            "\n",
            "See the caveats in the documentation: http://pandas.pydata.org/pandas-docs/stable/indexing.html#indexing-view-versus-copy\n",
            "  This is separate from the ipykernel package so we can avoid doing imports until\n"
          ],
          "name": "stderr"
        }
      ]
    },
    {
      "metadata": {
        "id": "TMMvKtVJYXAf",
        "colab_type": "code",
        "outputId": "a2a24a33-3c21-46d0-e275-992d1b18a6e7",
        "colab": {
          "base_uri": "https://localhost:8080/",
          "height": 126
        }
      },
      "cell_type": "code",
      "source": [
        "for col in cols:\n",
        "  t2['2'+col] = t2['node2_id'].apply(lambda x: train_features.loc[x,col])"
      ],
      "execution_count": 0,
      "outputs": [
        {
          "output_type": "stream",
          "text": [
            "/usr/local/lib/python3.6/dist-packages/ipykernel_launcher.py:2: SettingWithCopyWarning: \n",
            "A value is trying to be set on a copy of a slice from a DataFrame.\n",
            "Try using .loc[row_indexer,col_indexer] = value instead\n",
            "\n",
            "See the caveats in the documentation: http://pandas.pydata.org/pandas-docs/stable/indexing.html#indexing-view-versus-copy\n",
            "  \n"
          ],
          "name": "stderr"
        }
      ]
    },
    {
      "metadata": {
        "id": "hBPMLdGWYl2G",
        "colab_type": "code",
        "outputId": "92c48972-ed44-47a8-96f6-afd0b51b72a8",
        "colab": {
          "base_uri": "https://localhost:8080/",
          "height": 235
        }
      },
      "cell_type": "code",
      "source": [
        "t2.head()"
      ],
      "execution_count": 0,
      "outputs": [
        {
          "output_type": "execute_result",
          "data": {
            "text/html": [
              "<div>\n",
              "<style scoped>\n",
              "    .dataframe tbody tr th:only-of-type {\n",
              "        vertical-align: middle;\n",
              "    }\n",
              "\n",
              "    .dataframe tbody tr th {\n",
              "        vertical-align: top;\n",
              "    }\n",
              "\n",
              "    .dataframe thead th {\n",
              "        text-align: right;\n",
              "    }\n",
              "</style>\n",
              "<table border=\"1\" class=\"dataframe\">\n",
              "  <thead>\n",
              "    <tr style=\"text-align: right;\">\n",
              "      <th></th>\n",
              "      <th>node1_id</th>\n",
              "      <th>node2_id</th>\n",
              "      <th>is_chat</th>\n",
              "      <th>1f1</th>\n",
              "      <th>1f2</th>\n",
              "      <th>1f3</th>\n",
              "      <th>1f4</th>\n",
              "      <th>1f5</th>\n",
              "      <th>1f6</th>\n",
              "      <th>1f7</th>\n",
              "      <th>...</th>\n",
              "      <th>2f4</th>\n",
              "      <th>2f5</th>\n",
              "      <th>2f6</th>\n",
              "      <th>2f7</th>\n",
              "      <th>2f8</th>\n",
              "      <th>2f9</th>\n",
              "      <th>2f10</th>\n",
              "      <th>2f11</th>\n",
              "      <th>2f12</th>\n",
              "      <th>2f13</th>\n",
              "    </tr>\n",
              "  </thead>\n",
              "  <tbody>\n",
              "    <tr>\n",
              "      <th>0</th>\n",
              "      <td>8446602</td>\n",
              "      <td>6636127</td>\n",
              "      <td>0</td>\n",
              "      <td>22</td>\n",
              "      <td>0</td>\n",
              "      <td>0</td>\n",
              "      <td>24</td>\n",
              "      <td>0</td>\n",
              "      <td>0</td>\n",
              "      <td>24</td>\n",
              "      <td>...</td>\n",
              "      <td>15</td>\n",
              "      <td>11</td>\n",
              "      <td>5</td>\n",
              "      <td>19</td>\n",
              "      <td>12</td>\n",
              "      <td>5</td>\n",
              "      <td>16</td>\n",
              "      <td>10</td>\n",
              "      <td>4</td>\n",
              "      <td>10</td>\n",
              "    </tr>\n",
              "    <tr>\n",
              "      <th>1</th>\n",
              "      <td>1430102</td>\n",
              "      <td>7433949</td>\n",
              "      <td>0</td>\n",
              "      <td>0</td>\n",
              "      <td>0</td>\n",
              "      <td>0</td>\n",
              "      <td>0</td>\n",
              "      <td>0</td>\n",
              "      <td>0</td>\n",
              "      <td>0</td>\n",
              "      <td>...</td>\n",
              "      <td>16</td>\n",
              "      <td>13</td>\n",
              "      <td>6</td>\n",
              "      <td>20</td>\n",
              "      <td>16</td>\n",
              "      <td>7</td>\n",
              "      <td>25</td>\n",
              "      <td>21</td>\n",
              "      <td>6</td>\n",
              "      <td>15</td>\n",
              "    </tr>\n",
              "    <tr>\n",
              "      <th>2</th>\n",
              "      <td>2803017</td>\n",
              "      <td>8372333</td>\n",
              "      <td>0</td>\n",
              "      <td>9</td>\n",
              "      <td>2</td>\n",
              "      <td>0</td>\n",
              "      <td>14</td>\n",
              "      <td>7</td>\n",
              "      <td>1</td>\n",
              "      <td>14</td>\n",
              "      <td>...</td>\n",
              "      <td>1</td>\n",
              "      <td>1</td>\n",
              "      <td>0</td>\n",
              "      <td>1</td>\n",
              "      <td>1</td>\n",
              "      <td>0</td>\n",
              "      <td>0</td>\n",
              "      <td>0</td>\n",
              "      <td>0</td>\n",
              "      <td>8</td>\n",
              "    </tr>\n",
              "    <tr>\n",
              "      <th>3</th>\n",
              "      <td>4529348</td>\n",
              "      <td>894645</td>\n",
              "      <td>0</td>\n",
              "      <td>11</td>\n",
              "      <td>11</td>\n",
              "      <td>10</td>\n",
              "      <td>11</td>\n",
              "      <td>10</td>\n",
              "      <td>9</td>\n",
              "      <td>10</td>\n",
              "      <td>...</td>\n",
              "      <td>1</td>\n",
              "      <td>1</td>\n",
              "      <td>1</td>\n",
              "      <td>1</td>\n",
              "      <td>1</td>\n",
              "      <td>1</td>\n",
              "      <td>1</td>\n",
              "      <td>1</td>\n",
              "      <td>1</td>\n",
              "      <td>15</td>\n",
              "    </tr>\n",
              "    <tr>\n",
              "      <th>4</th>\n",
              "      <td>5096572</td>\n",
              "      <td>4211638</td>\n",
              "      <td>0</td>\n",
              "      <td>31</td>\n",
              "      <td>31</td>\n",
              "      <td>31</td>\n",
              "      <td>31</td>\n",
              "      <td>31</td>\n",
              "      <td>31</td>\n",
              "      <td>31</td>\n",
              "      <td>...</td>\n",
              "      <td>7</td>\n",
              "      <td>1</td>\n",
              "      <td>0</td>\n",
              "      <td>9</td>\n",
              "      <td>1</td>\n",
              "      <td>0</td>\n",
              "      <td>16</td>\n",
              "      <td>1</td>\n",
              "      <td>0</td>\n",
              "      <td>7</td>\n",
              "    </tr>\n",
              "  </tbody>\n",
              "</table>\n",
              "<p>5 rows × 29 columns</p>\n",
              "</div>"
            ],
            "text/plain": [
              "   node1_id  node2_id  is_chat  1f1  1f2  1f3  1f4  1f5  1f6  1f7  ...   2f4  \\\n",
              "0   8446602   6636127        0   22    0    0   24    0    0   24  ...    15   \n",
              "1   1430102   7433949        0    0    0    0    0    0    0    0  ...    16   \n",
              "2   2803017   8372333        0    9    2    0   14    7    1   14  ...     1   \n",
              "3   4529348    894645        0   11   11   10   11   10    9   10  ...     1   \n",
              "4   5096572   4211638        0   31   31   31   31   31   31   31  ...     7   \n",
              "\n",
              "   2f5  2f6  2f7  2f8  2f9  2f10  2f11  2f12  2f13  \n",
              "0   11    5   19   12    5    16    10     4    10  \n",
              "1   13    6   20   16    7    25    21     6    15  \n",
              "2    1    0    1    1    0     0     0     0     8  \n",
              "3    1    1    1    1    1     1     1     1    15  \n",
              "4    1    0    9    1    0    16     1     0     7  \n",
              "\n",
              "[5 rows x 29 columns]"
            ]
          },
          "metadata": {
            "tags": []
          },
          "execution_count": 35
        }
      ]
    },
    {
      "metadata": {
        "id": "rygwomZdXkcI",
        "colab_type": "code",
        "outputId": "75581d65-8465-4fb3-d6d1-c27c89a584c4",
        "colab": {
          "base_uri": "https://localhost:8080/",
          "height": 35
        }
      },
      "cell_type": "code",
      "source": [
        "import numpy\n",
        "import pandas\n",
        "from keras.models import Sequential\n",
        "from keras.layers import Dense\n",
        "from keras.wrappers.scikit_learn import KerasClassifier\n",
        "from sklearn.model_selection import cross_val_score\n",
        "from sklearn.preprocessing import LabelEncoder\n",
        "from sklearn.model_selection import StratifiedKFold\n",
        "from sklearn.preprocessing import StandardScaler\n",
        "from sklearn.pipeline import Pipeline"
      ],
      "execution_count": 0,
      "outputs": [
        {
          "output_type": "stream",
          "text": [
            "Using TensorFlow backend.\n"
          ],
          "name": "stderr"
        }
      ]
    },
    {
      "metadata": {
        "id": "ajzB6VQ8st93",
        "colab_type": "code",
        "colab": {}
      },
      "cell_type": "code",
      "source": [
        "X = t2.iloc[:,3:].values.astype(float)\n",
        "Y = t2.loc[:,'is_chat'].values\n"
      ],
      "execution_count": 0,
      "outputs": []
    },
    {
      "metadata": {
        "id": "A1Y9VWn_bAq_",
        "colab_type": "code",
        "colab": {}
      },
      "cell_type": "code",
      "source": [
        "X.shape\n",
        "seed = 7"
      ],
      "execution_count": 0,
      "outputs": []
    },
    {
      "metadata": {
        "id": "qMA7BMsEU36n",
        "colab_type": "code",
        "outputId": "9da6372d-c2b5-47a5-cd4b-b0be0c4d9b83",
        "colab": {
          "base_uri": "https://localhost:8080/",
          "height": 92
        }
      },
      "cell_type": "code",
      "source": [
        "model = Sequential()\n",
        "model.add(Dense(60, input_dim=26, kernel_initializer='normal', activation='relu'))\n",
        "model.add(Dense(100, input_dim=60, kernel_initializer='normal', activation='relu'))\n",
        "model.add(Dense(20, input_dim=100, kernel_initializer='normal', activation='relu'))\n",
        "model.add(Dense(1, kernel_initializer='normal', activation='sigmoid'))\n",
        "# Compile model\n",
        "model.compile(loss='binary_crossentropy', optimizer='adam', metrics=['accuracy'])"
      ],
      "execution_count": 0,
      "outputs": [
        {
          "output_type": "stream",
          "text": [
            "WARNING:tensorflow:From /usr/local/lib/python3.6/dist-packages/tensorflow/python/framework/op_def_library.py:263: colocate_with (from tensorflow.python.framework.ops) is deprecated and will be removed in a future version.\n",
            "Instructions for updating:\n",
            "Colocations handled automatically by placer.\n"
          ],
          "name": "stdout"
        }
      ]
    },
    {
      "metadata": {
        "id": "4vxaN1qzVghe",
        "colab_type": "code",
        "outputId": "ee6f1261-7703-45c7-b336-ecc50686f743",
        "colab": {
          "base_uri": "https://localhost:8080/",
          "height": 473
        }
      },
      "cell_type": "code",
      "source": [
        "model.fit(X,Y, epochs = 10, batch_size = 1000)"
      ],
      "execution_count": 0,
      "outputs": [
        {
          "output_type": "stream",
          "text": [
            "WARNING:tensorflow:From /usr/local/lib/python3.6/dist-packages/tensorflow/python/ops/math_ops.py:3066: to_int32 (from tensorflow.python.ops.math_ops) is deprecated and will be removed in a future version.\n",
            "Instructions for updating:\n",
            "Use tf.cast instead.\n",
            "Epoch 1/10\n",
            "100000/100000 [==============================] - 2s 17us/step - loss: 0.2064 - acc: 0.9667\n",
            "Epoch 2/10\n",
            "100000/100000 [==============================] - 1s 8us/step - loss: 0.1250 - acc: 0.9677\n",
            "Epoch 3/10\n",
            "100000/100000 [==============================] - 1s 8us/step - loss: 0.1236 - acc: 0.9677\n",
            "Epoch 4/10\n",
            "100000/100000 [==============================] - 1s 8us/step - loss: 0.1225 - acc: 0.9677\n",
            "Epoch 5/10\n",
            "100000/100000 [==============================] - 1s 8us/step - loss: 0.1220 - acc: 0.9677\n",
            "Epoch 6/10\n",
            "100000/100000 [==============================] - 1s 7us/step - loss: 0.1211 - acc: 0.9677\n",
            "Epoch 7/10\n",
            "100000/100000 [==============================] - 1s 7us/step - loss: 0.1210 - acc: 0.9676\n",
            "Epoch 8/10\n",
            "100000/100000 [==============================] - 1s 8us/step - loss: 0.1199 - acc: 0.9676\n",
            "Epoch 9/10\n",
            "100000/100000 [==============================] - 1s 7us/step - loss: 0.1200 - acc: 0.9676\n",
            "Epoch 10/10\n",
            "100000/100000 [==============================] - 1s 7us/step - loss: 0.1198 - acc: 0.9677\n"
          ],
          "name": "stdout"
        },
        {
          "output_type": "execute_result",
          "data": {
            "text/plain": [
              "<keras.callbacks.History at 0x7f9c1ebb8c18>"
            ]
          },
          "metadata": {
            "tags": []
          },
          "execution_count": 40
        }
      ]
    },
    {
      "metadata": {
        "id": "1kv6LohqksSc",
        "colab_type": "code",
        "outputId": "b329523a-84c2-4446-e2e8-91449d09a898",
        "colab": {
          "base_uri": "https://localhost:8080/",
          "height": 144
        }
      },
      "cell_type": "code",
      "source": [
        "model.predict(X)"
      ],
      "execution_count": 0,
      "outputs": [
        {
          "output_type": "execute_result",
          "data": {
            "text/plain": [
              "array([[0.01735255],\n",
              "       [0.03856307],\n",
              "       [0.01228482],\n",
              "       ...,\n",
              "       [0.2729227 ],\n",
              "       [0.02515772],\n",
              "       [0.0030973 ]], dtype=float32)"
            ]
          },
          "metadata": {
            "tags": []
          },
          "execution_count": 41
        }
      ]
    },
    {
      "metadata": {
        "id": "2WkRraiNks0z",
        "colab_type": "code",
        "colab": {}
      },
      "cell_type": "code",
      "source": [
        "import zipfile\n",
        "import pandas as pd\n",
        " \n",
        "zf2 = zipfile.ZipFile('./test.zip') \n",
        "test_df = pd.read_csv(zf2.open('test.csv'))\n",
        "# train_features = pd.read_csv(zf.open('user_features.csv'))"
      ],
      "execution_count": 0,
      "outputs": []
    },
    {
      "metadata": {
        "id": "HzDVnzttS_QT",
        "colab_type": "code",
        "outputId": "54b5b01c-d82f-4243-f533-766acd1916cd",
        "colab": {
          "base_uri": "https://localhost:8080/",
          "height": 35
        }
      },
      "cell_type": "code",
      "source": [
        "test_df.shape"
      ],
      "execution_count": 0,
      "outputs": [
        {
          "output_type": "execute_result",
          "data": {
            "text/plain": [
              "(11776968, 3)"
            ]
          },
          "metadata": {
            "tags": []
          },
          "execution_count": 43
        }
      ]
    },
    {
      "metadata": {
        "id": "nw7BKus9eIb-",
        "colab_type": "text"
      },
      "cell_type": "markdown",
      "source": [
        ""
      ]
    },
    {
      "metadata": {
        "id": "4bwmHvY8hEzS",
        "colab_type": "code",
        "outputId": "a937cde6-e47d-4c1d-e4db-c2a19bacde8b",
        "colab": {
          "base_uri": "https://localhost:8080/",
          "height": 1307
        }
      },
      "cell_type": "code",
      "source": [
        "\n",
        "l =[]\n",
        "t =0\n",
        "for i in range(59):\n",
        "  print(i)\n",
        "  test1 = test_df.iloc[t:t+200000,:]\n",
        "\n",
        "\n",
        "  for col in cols:\n",
        "    test1['1'+col] = test1['node1_id'].apply(lambda x: train_features.loc[x,col])\n",
        "\n",
        "  for col in cols:\n",
        "    test1['2'+col] = test1['node2_id'].apply(lambda x: train_features.loc[x,col])\n",
        "\n",
        "  l.append(model.predict(test1.iloc[:,3:].values))\n",
        "  t+=200000\n",
        "  "
      ],
      "execution_count": 0,
      "outputs": [
        {
          "output_type": "stream",
          "text": [
            "0\n"
          ],
          "name": "stdout"
        },
        {
          "output_type": "stream",
          "text": [
            "/usr/local/lib/python3.6/dist-packages/ipykernel_launcher.py:10: SettingWithCopyWarning: \n",
            "A value is trying to be set on a copy of a slice from a DataFrame.\n",
            "Try using .loc[row_indexer,col_indexer] = value instead\n",
            "\n",
            "See the caveats in the documentation: http://pandas.pydata.org/pandas-docs/stable/indexing.html#indexing-view-versus-copy\n",
            "  # Remove the CWD from sys.path while we load stuff.\n",
            "/usr/local/lib/python3.6/dist-packages/ipykernel_launcher.py:13: SettingWithCopyWarning: \n",
            "A value is trying to be set on a copy of a slice from a DataFrame.\n",
            "Try using .loc[row_indexer,col_indexer] = value instead\n",
            "\n",
            "See the caveats in the documentation: http://pandas.pydata.org/pandas-docs/stable/indexing.html#indexing-view-versus-copy\n",
            "  del sys.path[0]\n"
          ],
          "name": "stderr"
        },
        {
          "output_type": "stream",
          "text": [
            "1\n",
            "2\n",
            "3\n",
            "4\n",
            "5\n",
            "6\n",
            "7\n",
            "8\n",
            "9\n",
            "10\n",
            "11\n",
            "12\n",
            "13\n",
            "14\n",
            "15\n",
            "16\n",
            "17\n",
            "18\n",
            "19\n",
            "20\n",
            "21\n",
            "22\n",
            "23\n",
            "24\n",
            "25\n",
            "26\n",
            "27\n",
            "28\n",
            "29\n",
            "30\n",
            "31\n",
            "32\n",
            "33\n",
            "34\n",
            "35\n",
            "36\n",
            "37\n",
            "38\n",
            "39\n",
            "40\n",
            "41\n",
            "42\n",
            "43\n",
            "44\n",
            "45\n",
            "46\n",
            "47\n",
            "48\n",
            "49\n",
            "50\n",
            "51\n",
            "52\n",
            "53\n",
            "54\n",
            "55\n",
            "56\n",
            "57\n",
            "58\n"
          ],
          "name": "stdout"
        }
      ]
    },
    {
      "metadata": {
        "id": "y7RdX7aZipvq",
        "colab_type": "code",
        "outputId": "9b667910-83a7-4d24-b675-7ee8ee1bdabd",
        "colab": {
          "base_uri": "https://localhost:8080/",
          "height": 35
        }
      },
      "cell_type": "code",
      "source": [
        "len(l)\n"
      ],
      "execution_count": 0,
      "outputs": [
        {
          "output_type": "execute_result",
          "data": {
            "text/plain": [
              "59"
            ]
          },
          "metadata": {
            "tags": []
          },
          "execution_count": 45
        }
      ]
    },
    {
      "metadata": {
        "id": "wGXffjwpi0Wt",
        "colab_type": "code",
        "outputId": "e09012a2-2006-46df-8206-515e340344c4",
        "colab": {
          "base_uri": "https://localhost:8080/",
          "height": 35
        }
      },
      "cell_type": "code",
      "source": [
        "59*200000"
      ],
      "execution_count": 0,
      "outputs": [
        {
          "output_type": "execute_result",
          "data": {
            "text/plain": [
              "11800000"
            ]
          },
          "metadata": {
            "tags": []
          },
          "execution_count": 46
        }
      ]
    },
    {
      "metadata": {
        "id": "VxaH8tjuSX35",
        "colab_type": "code",
        "outputId": "50178082-7170-4a29-cf1c-043bf43ffa5e",
        "colab": {
          "base_uri": "https://localhost:8080/",
          "height": 35
        }
      },
      "cell_type": "code",
      "source": [
        "test_df.shape"
      ],
      "execution_count": 0,
      "outputs": [
        {
          "output_type": "execute_result",
          "data": {
            "text/plain": [
              "(11776968, 3)"
            ]
          },
          "metadata": {
            "tags": []
          },
          "execution_count": 47
        }
      ]
    },
    {
      "metadata": {
        "id": "IbnZJ9dLKhtS",
        "colab_type": "code",
        "colab": {}
      },
      "cell_type": "code",
      "source": [
        "flat_list = [item for sublist in l for item in sublist]"
      ],
      "execution_count": 0,
      "outputs": []
    },
    {
      "metadata": {
        "id": "s8CkrRhWK6gg",
        "colab_type": "code",
        "outputId": "974fa35a-fb77-4fe0-a0c5-b5f0df9f2c9a",
        "colab": {
          "base_uri": "https://localhost:8080/",
          "height": 35
        }
      },
      "cell_type": "code",
      "source": [
        "len(flat_list)"
      ],
      "execution_count": 0,
      "outputs": [
        {
          "output_type": "execute_result",
          "data": {
            "text/plain": [
              "11776968"
            ]
          },
          "metadata": {
            "tags": []
          },
          "execution_count": 49
        }
      ]
    },
    {
      "metadata": {
        "id": "4uQHtmR6K88R",
        "colab_type": "code",
        "outputId": "880d7c1c-dc3c-424b-fed5-28a465da65f2",
        "colab": {
          "base_uri": "https://localhost:8080/",
          "height": 206
        }
      },
      "cell_type": "code",
      "source": [
        "test_df['Score'] = flat_list\n",
        "test_df.head()"
      ],
      "execution_count": 0,
      "outputs": [
        {
          "output_type": "execute_result",
          "data": {
            "text/html": [
              "<div>\n",
              "<style scoped>\n",
              "    .dataframe tbody tr th:only-of-type {\n",
              "        vertical-align: middle;\n",
              "    }\n",
              "\n",
              "    .dataframe tbody tr th {\n",
              "        vertical-align: top;\n",
              "    }\n",
              "\n",
              "    .dataframe thead th {\n",
              "        text-align: right;\n",
              "    }\n",
              "</style>\n",
              "<table border=\"1\" class=\"dataframe\">\n",
              "  <thead>\n",
              "    <tr style=\"text-align: right;\">\n",
              "      <th></th>\n",
              "      <th>id</th>\n",
              "      <th>node1_id</th>\n",
              "      <th>node2_id</th>\n",
              "      <th>Score</th>\n",
              "    </tr>\n",
              "  </thead>\n",
              "  <tbody>\n",
              "    <tr>\n",
              "      <th>0</th>\n",
              "      <td>1</td>\n",
              "      <td>7107094</td>\n",
              "      <td>8010772</td>\n",
              "      <td>[0.013597041]</td>\n",
              "    </tr>\n",
              "    <tr>\n",
              "      <th>1</th>\n",
              "      <td>2</td>\n",
              "      <td>7995251</td>\n",
              "      <td>2805801</td>\n",
              "      <td>[0.027720392]</td>\n",
              "    </tr>\n",
              "    <tr>\n",
              "      <th>2</th>\n",
              "      <td>3</td>\n",
              "      <td>2804693</td>\n",
              "      <td>8059549</td>\n",
              "      <td>[0.0037758946]</td>\n",
              "    </tr>\n",
              "    <tr>\n",
              "      <th>3</th>\n",
              "      <td>4</td>\n",
              "      <td>4812472</td>\n",
              "      <td>7332370</td>\n",
              "      <td>[0.0013335943]</td>\n",
              "    </tr>\n",
              "    <tr>\n",
              "      <th>4</th>\n",
              "      <td>5</td>\n",
              "      <td>5009985</td>\n",
              "      <td>4511909</td>\n",
              "      <td>[0.025363326]</td>\n",
              "    </tr>\n",
              "  </tbody>\n",
              "</table>\n",
              "</div>"
            ],
            "text/plain": [
              "   id  node1_id  node2_id           Score\n",
              "0   1   7107094   8010772   [0.013597041]\n",
              "1   2   7995251   2805801   [0.027720392]\n",
              "2   3   2804693   8059549  [0.0037758946]\n",
              "3   4   4812472   7332370  [0.0013335943]\n",
              "4   5   5009985   4511909   [0.025363326]"
            ]
          },
          "metadata": {
            "tags": []
          },
          "execution_count": 50
        }
      ]
    },
    {
      "metadata": {
        "id": "M9AyFEaiLBJr",
        "colab_type": "code",
        "outputId": "e7e371ba-3bce-44ae-e04d-f47a5bb0f87d",
        "colab": {
          "base_uri": "https://localhost:8080/",
          "height": 35
        }
      },
      "cell_type": "code",
      "source": [
        "test_f = test_df[['id','Score']]\n",
        "test_f.shape"
      ],
      "execution_count": 0,
      "outputs": [
        {
          "output_type": "execute_result",
          "data": {
            "text/plain": [
              "(11776968, 2)"
            ]
          },
          "metadata": {
            "tags": []
          },
          "execution_count": 51
        }
      ]
    },
    {
      "metadata": {
        "id": "euK5pkqeOtvt",
        "colab_type": "code",
        "outputId": "54a9808b-4fe8-4148-ff9b-d9aefa9529f8",
        "colab": {
          "base_uri": "https://localhost:8080/",
          "height": 35
        }
      },
      "cell_type": "code",
      "source": [
        "# test_f['Score'] = test_f['Score'].values\n",
        "type(test_f.Score[0])"
      ],
      "execution_count": 0,
      "outputs": [
        {
          "output_type": "execute_result",
          "data": {
            "text/plain": [
              "numpy.ndarray"
            ]
          },
          "metadata": {
            "tags": []
          },
          "execution_count": 52
        }
      ]
    },
    {
      "metadata": {
        "id": "l-v-vflOPVg-",
        "colab_type": "code",
        "outputId": "12779376-2033-4ee0-f08c-95a23d0181e9",
        "colab": {
          "base_uri": "https://localhost:8080/",
          "height": 126
        }
      },
      "cell_type": "code",
      "source": [
        "test_f['is_chat'] = test_f['Score'].apply(lambda x: x[0])"
      ],
      "execution_count": 0,
      "outputs": [
        {
          "output_type": "stream",
          "text": [
            "/usr/local/lib/python3.6/dist-packages/ipykernel_launcher.py:1: SettingWithCopyWarning: \n",
            "A value is trying to be set on a copy of a slice from a DataFrame.\n",
            "Try using .loc[row_indexer,col_indexer] = value instead\n",
            "\n",
            "See the caveats in the documentation: http://pandas.pydata.org/pandas-docs/stable/indexing.html#indexing-view-versus-copy\n",
            "  \"\"\"Entry point for launching an IPython kernel.\n"
          ],
          "name": "stderr"
        }
      ]
    },
    {
      "metadata": {
        "id": "ep3L7pFIPpPc",
        "colab_type": "code",
        "outputId": "9a67f335-7b98-4e34-abf8-6db57dc9b4e7",
        "colab": {
          "base_uri": "https://localhost:8080/",
          "height": 297
        }
      },
      "cell_type": "code",
      "source": [
        "test_f.drop(columns = 'Score', inplace = True)\n",
        "test_f.head()"
      ],
      "execution_count": 0,
      "outputs": [
        {
          "output_type": "stream",
          "text": [
            "/usr/local/lib/python3.6/dist-packages/ipykernel_launcher.py:1: SettingWithCopyWarning: \n",
            "A value is trying to be set on a copy of a slice from a DataFrame\n",
            "\n",
            "See the caveats in the documentation: http://pandas.pydata.org/pandas-docs/stable/indexing.html#indexing-view-versus-copy\n",
            "  \"\"\"Entry point for launching an IPython kernel.\n"
          ],
          "name": "stderr"
        },
        {
          "output_type": "execute_result",
          "data": {
            "text/html": [
              "<div>\n",
              "<style scoped>\n",
              "    .dataframe tbody tr th:only-of-type {\n",
              "        vertical-align: middle;\n",
              "    }\n",
              "\n",
              "    .dataframe tbody tr th {\n",
              "        vertical-align: top;\n",
              "    }\n",
              "\n",
              "    .dataframe thead th {\n",
              "        text-align: right;\n",
              "    }\n",
              "</style>\n",
              "<table border=\"1\" class=\"dataframe\">\n",
              "  <thead>\n",
              "    <tr style=\"text-align: right;\">\n",
              "      <th></th>\n",
              "      <th>id</th>\n",
              "      <th>is_chat</th>\n",
              "    </tr>\n",
              "  </thead>\n",
              "  <tbody>\n",
              "    <tr>\n",
              "      <th>0</th>\n",
              "      <td>1</td>\n",
              "      <td>0.013597</td>\n",
              "    </tr>\n",
              "    <tr>\n",
              "      <th>1</th>\n",
              "      <td>2</td>\n",
              "      <td>0.027720</td>\n",
              "    </tr>\n",
              "    <tr>\n",
              "      <th>2</th>\n",
              "      <td>3</td>\n",
              "      <td>0.003776</td>\n",
              "    </tr>\n",
              "    <tr>\n",
              "      <th>3</th>\n",
              "      <td>4</td>\n",
              "      <td>0.001334</td>\n",
              "    </tr>\n",
              "    <tr>\n",
              "      <th>4</th>\n",
              "      <td>5</td>\n",
              "      <td>0.025363</td>\n",
              "    </tr>\n",
              "  </tbody>\n",
              "</table>\n",
              "</div>"
            ],
            "text/plain": [
              "   id   is_chat\n",
              "0   1  0.013597\n",
              "1   2  0.027720\n",
              "2   3  0.003776\n",
              "3   4  0.001334\n",
              "4   5  0.025363"
            ]
          },
          "metadata": {
            "tags": []
          },
          "execution_count": 54
        }
      ]
    },
    {
      "metadata": {
        "id": "0vTiNiYeP1WU",
        "colab_type": "code",
        "colab": {}
      },
      "cell_type": "code",
      "source": [
        "test_f[['id','is_chat']].to_csv('prediction.csv', index= False)"
      ],
      "execution_count": 0,
      "outputs": []
    },
    {
      "metadata": {
        "id": "YsMzJgz4LmiR",
        "colab_type": "code",
        "outputId": "2d8da7a1-cc6f-440f-cd19-d3d869549261",
        "colab": {
          "base_uri": "https://localhost:8080/",
          "height": 471
        }
      },
      "cell_type": "code",
      "source": [
        "from google.colab import files\n",
        "files.download('prediction.csv') "
      ],
      "execution_count": 0,
      "outputs": [
        {
          "output_type": "stream",
          "text": [
            "----------------------------------------\n",
            "Exception happened during processing of request from ('::ffff:127.0.0.1', 35020, 0, 0)\n",
            "Traceback (most recent call last):\n",
            "  File \"/usr/lib/python3.6/socketserver.py\", line 317, in _handle_request_noblock\n",
            "    self.process_request(request, client_address)\n",
            "  File \"/usr/lib/python3.6/socketserver.py\", line 348, in process_request\n",
            "    self.finish_request(request, client_address)\n",
            "  File \"/usr/lib/python3.6/socketserver.py\", line 361, in finish_request\n",
            "    self.RequestHandlerClass(request, client_address, self)\n",
            "  File \"/usr/lib/python3.6/socketserver.py\", line 721, in __init__\n",
            "    self.handle()\n",
            "  File \"/usr/lib/python3.6/http/server.py\", line 418, in handle\n",
            "    self.handle_one_request()\n",
            "  File \"/usr/lib/python3.6/http/server.py\", line 406, in handle_one_request\n",
            "    method()\n",
            "  File \"/usr/lib/python3.6/http/server.py\", line 639, in do_GET\n",
            "    self.copyfile(f, self.wfile)\n",
            "  File \"/usr/lib/python3.6/http/server.py\", line 800, in copyfile\n",
            "    shutil.copyfileobj(source, outputfile)\n",
            "  File \"/usr/lib/python3.6/shutil.py\", line 82, in copyfileobj\n",
            "    fdst.write(buf)\n",
            "  File \"/usr/lib/python3.6/socketserver.py\", line 800, in write\n",
            "    self._sock.sendall(b)\n",
            "ConnectionResetError: [Errno 104] Connection reset by peer\n",
            "----------------------------------------\n"
          ],
          "name": "stderr"
        }
      ]
    },
    {
      "metadata": {
        "id": "CJIW9txbTLvW",
        "colab_type": "code",
        "colab": {}
      },
      "cell_type": "code",
      "source": [
        ""
      ],
      "execution_count": 0,
      "outputs": []
    }
  ]
}